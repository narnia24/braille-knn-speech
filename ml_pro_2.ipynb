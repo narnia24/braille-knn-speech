{
  "nbformat": 4,
  "nbformat_minor": 0,
  "metadata": {
    "colab": {
      "provenance": [],
      "authorship_tag": "ABX9TyPckd3j9Vs7/r/3VqL0jwf/"
    },
    "kernelspec": {
      "name": "python3",
      "display_name": "Python 3"
    },
    "language_info": {
      "name": "python"
    }
  },
  "cells": [
    {
      "cell_type": "code",
      "execution_count": null,
      "metadata": {
        "colab": {
          "base_uri": "https://localhost:8080/",
          "height": 162
        },
        "id": "8YVAwfsQgR4V",
        "outputId": "989c88ab-53db-4d25-ac45-0c683b2672a8"
      },
      "outputs": [
        {
          "output_type": "stream",
          "name": "stdout",
          "text": [
            "Skipping non-image file: /root/.cache/kagglehub/datasets/shanks0465/braille-character-dataset/versions/1/Dataset Description.txt\n",
            "Loaded 1560 images\n",
            "Accuracy: 58.65%\n",
            "Predicted Braille symbol: f\n",
            "Speech saved to output.mp3\n"
          ]
        },
        {
          "output_type": "display_data",
          "data": {
            "text/plain": [
              "<IPython.lib.display.Audio object>"
            ],
            "text/html": [
              "\n",
              "                <audio  controls=\"controls\" >\n",
              "                    <source src=\"data:audio/mpeg;base64,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\" type=\"audio/mpeg\" />\n",
              "                    Your browser does not support the audio element.\n",
              "                </audio>\n",
              "              "
            ]
          },
          "metadata": {}
        }
      ],
      "source": [
        "import kagglehub\n",
        "import os\n",
        "import cv2\n",
        "import numpy as np\n",
        "from sklearn.model_selection import train_test_split\n",
        "from sklearn.neighbors import KNeighborsClassifier\n",
        "from sklearn.metrics import accuracy_score\n",
        "from gtts import gTTS\n",
        "from pathlib import Path\n",
        "from IPython.display import Audio\n",
        "\n",
        "dataset_path = Path(\"/root/.cache/kagglehub/datasets/shanks0465/braille-character-dataset/versions/1\")\n",
        "\n",
        "def load_data(dataset_path):\n",
        "    X = []\n",
        "    y = []\n",
        "    allowed_extensions = ['.png', '.jpg', '.jpeg']\n",
        "\n",
        "    for root, _, files in os.walk(dataset_path):\n",
        "        for img_file in files:\n",
        "            img_path = os.path.join(root, img_file)\n",
        "            if any(img_file.lower().endswith(ext) for ext in allowed_extensions):\n",
        "                img = cv2.imread(img_path, cv2.IMREAD_GRAYSCALE)\n",
        "                if img is None:\n",
        "                    print(f\"Warning: Could not load image {img_path}\")\n",
        "                    continue\n",
        "\n",
        "                label = img_file[0].lower()\n",
        "\n",
        "                img = cv2.resize(img, (28, 28))\n",
        "                img = img.flatten()\n",
        "                X.append(img)\n",
        "                y.append(label)\n",
        "            else:\n",
        "                print(f\"Skipping non-image file: {img_path}\")\n",
        "\n",
        "    if len(X) == 0:\n",
        "        print(\"No images loaded. Please check the dataset path and file structure.\")\n",
        "    else:\n",
        "        print(f\"Loaded {len(X)} images\")\n",
        "\n",
        "    return np.array(X), np.array(y)\n",
        "\n",
        "X, y = load_data(dataset_path)\n",
        "\n",
        "if X.shape[0] > 0:\n",
        "    X_train, X_test, y_train, y_test = train_test_split(X, y, test_size=0.2, random_state=42)\n",
        "\n",
        "    knn = KNeighborsClassifier(n_neighbors=3)\n",
        "    knn.fit(X_train, y_train)\n",
        "\n",
        "    y_pred = knn.predict(X_test)\n",
        "    accuracy = accuracy_score(y_test, y_pred)\n",
        "    print(f\"Accuracy: {accuracy * 100:.2f}%\")\n",
        "\n",
        "    def text_to_speech(text, output_file=\"output.mp3\"):\n",
        "        tts = gTTS(text=text, lang='en', slow=False)\n",
        "        tts.save(output_file)\n",
        "        print(f\"Speech saved to {output_file}\")\n",
        "\n",
        "    test_image = X_test[0]\n",
        "    predicted_text = knn.predict([test_image])[0]\n",
        "    print(f\"Predicted Braille symbol: {predicted_text}\")\n",
        "\n",
        "    text_to_speech(predicted_text, output_file=\"output.mp3\")\n",
        "\n",
        "    display(Audio('output.mp3'))\n",
        "else:\n",
        "    print(\"No data available for training. Exiting...\")\n"
      ]
    },
    {
      "cell_type": "code",
      "source": [
        "!pip install gtts"
      ],
      "metadata": {
        "colab": {
          "base_uri": "https://localhost:8080/"
        },
        "id": "MmR_-vrHgivb",
        "outputId": "635524a6-c0d2-4474-8a9c-e2222c0c9a30"
      },
      "execution_count": null,
      "outputs": [
        {
          "output_type": "stream",
          "name": "stdout",
          "text": [
            "Collecting gtts\n",
            "  Downloading gTTS-2.5.4-py3-none-any.whl.metadata (4.1 kB)\n",
            "Requirement already satisfied: requests<3,>=2.27 in /usr/local/lib/python3.10/dist-packages (from gtts) (2.32.3)\n",
            "Requirement already satisfied: click<8.2,>=7.1 in /usr/local/lib/python3.10/dist-packages (from gtts) (8.1.7)\n",
            "Requirement already satisfied: charset-normalizer<4,>=2 in /usr/local/lib/python3.10/dist-packages (from requests<3,>=2.27->gtts) (3.4.0)\n",
            "Requirement already satisfied: idna<4,>=2.5 in /usr/local/lib/python3.10/dist-packages (from requests<3,>=2.27->gtts) (3.10)\n",
            "Requirement already satisfied: urllib3<3,>=1.21.1 in /usr/local/lib/python3.10/dist-packages (from requests<3,>=2.27->gtts) (2.2.3)\n",
            "Requirement already satisfied: certifi>=2017.4.17 in /usr/local/lib/python3.10/dist-packages (from requests<3,>=2.27->gtts) (2024.8.30)\n",
            "Downloading gTTS-2.5.4-py3-none-any.whl (29 kB)\n",
            "Installing collected packages: gtts\n",
            "Successfully installed gtts-2.5.4\n"
          ]
        }
      ]
    },
    {
      "cell_type": "code",
      "source": [
        "import os\n",
        "from pathlib import Path\n",
        "\n",
        "# Specify the root path to the dataset\n",
        "dataset_path = Path(\"/root/.cache/kagglehub/datasets/shanks0465/braille-character-dataset/versions/1\")\n",
        "\n",
        "# Iterate through subdirectories and collect image file paths\n",
        "image_files = []\n",
        "for subdir, _, files in os.walk(dataset_path):\n",
        "    for file in files:\n",
        "        if file.lower().endswith(('.png', '.jpg', '.jpeg')):\n",
        "            image_files.append(os.path.join(subdir, file))\n",
        "\n",
        "if image_files:\n",
        "    print(f\"Loaded {len(image_files)} images\")\n",
        "else:\n",
        "    print(\"No images found. Please verify the dataset structure and file types.\")\n"
      ],
      "metadata": {
        "colab": {
          "base_uri": "https://localhost:8080/"
        },
        "id": "GAH8dbsQi1bR",
        "outputId": "8f5ab3e3-5c7b-4e60-aa76-4de253209e90"
      },
      "execution_count": null,
      "outputs": [
        {
          "output_type": "stream",
          "name": "stdout",
          "text": [
            "Loaded 1560 images\n"
          ]
        }
      ]
    }
  ]
}